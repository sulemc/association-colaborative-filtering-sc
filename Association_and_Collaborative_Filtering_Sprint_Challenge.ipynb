{
  "nbformat": 4,
  "nbformat_minor": 0,
  "metadata": {
    "colab": {
      "name": "Association and Collaborative Filtering Sprint Challenge.ipynb",
      "version": "0.3.2",
      "provenance": [],
      "include_colab_link": true
    },
    "kernelspec": {
      "name": "python3",
      "display_name": "Python 3"
    }
  },
  "cells": [
    {
      "cell_type": "markdown",
      "metadata": {
        "id": "view-in-github",
        "colab_type": "text"
      },
      "source": [
        "[View in Colaboratory](https://colab.research.google.com/github/sulemc/association-colaborative-filtering-sc/blob/master/Association_and_Collaborative_Filtering_Sprint_Challenge.ipynb)"
      ]
    },
    {
      "metadata": {
        "id": "9Siy77yANn8h",
        "colab_type": "text"
      },
      "cell_type": "markdown",
      "source": [
        "## **Association Sprint Challenge**\n",
        "\n",
        "\n",
        "The journey into Association, a form of Unsupervised Machine Learning exposed you to the concepts of:\n",
        "\n",
        "a) Maket Basket Analysis \n",
        "\n",
        "b) Collaborative Filtering (including Matrix Factorization)\n",
        "\n",
        "The purpose of this Sprint Challenge is to solidify your understanding of the Association Rule Learning topics covered this week by providing additional practice.\n",
        "\n",
        "In this Sprint Challenge, we are going to use a few different data sets:\n",
        "\n",
        "**Store Transactions data set**: https://www.dropbox.com/s/v3wdo3nzl41vxcd/Store_Transactions.csv?raw=1\n",
        "\n",
        "**Movies data set**: https://www.dropbox.com/s/qo7v9k5rcwt7wgh/movies.csv?raw=1\n",
        "\n",
        "**User Movie Ratings data set**: https://www.dropbox.com/s/piypmzeucyz160l/ratings_small.csv?raw=1\n",
        "\n",
        "**Some Tips**:\n",
        "\n",
        "1) You *may* need to prepare the data.\n",
        "\n",
        "2) You will have to transpose the data set so that you get a proper representation of the underlying data set that can be feed into the Apriori Algorithm\n",
        "\n",
        "Create solutions for the following code blocks. This exercise should take ~ 1.5 - 2 hours.\n",
        "\n",
        "Share with mlsubmissions@lambdaschool.com when finished.\n"
      ]
    },
    {
      "metadata": {
        "id": "uGBw5qIacaoG",
        "colab_type": "code",
        "colab": {}
      },
      "cell_type": "code",
      "source": [
        " LAMBDA SCHOOL\n",
        "#\n",
        "# MACHINE LEARNING\n",
        "#\n",
        "# MIT LICENSE\n",
        "\n",
        "import numpy as np\n",
        "import matplotlib.pyplot as plt\n",
        "import pandas as pd\n",
        "from pandas import Series, DataFrame"
      ],
      "execution_count": 0,
      "outputs": []
    },
    {
      "metadata": {
        "id": "kOiVkm3voWkz",
        "colab_type": "code",
        "colab": {}
      },
      "cell_type": "code",
      "source": [
        "#Install the MLxtend package\n",
        "\n",
        "!pip install MLxtend"
      ],
      "execution_count": 0,
      "outputs": []
    },
    {
      "metadata": {
        "id": "d-HHff1hoaLu",
        "colab_type": "code",
        "colab": {}
      },
      "cell_type": "code",
      "source": [
        "from mlxtend.frequent_patterns import apriori\n",
        "from mlxtend.frequent_patterns import association_rules\n",
        "from mlxtend.preprocessing import OnehotTransactions\n",
        "from mlxtend.preprocessing import TransactionEncoder"
      ],
      "execution_count": 0,
      "outputs": []
    },
    {
      "metadata": {
        "id": "ndoWJD5htDwf",
        "colab_type": "text"
      },
      "cell_type": "markdown",
      "source": [
        "### Identifying Frequent Itemsets and Association Rules"
      ]
    },
    {
      "metadata": {
        "id": "TDqaOQbrtt9-",
        "colab_type": "text"
      },
      "cell_type": "markdown",
      "source": [
        "**Dataset:**\n",
        "\n",
        "Store Transactions: https://www.dropbox.com/s/v3wdo3nzl41vxcd/Store_Transactions.csv?raw=1"
      ]
    },
    {
      "metadata": {
        "id": "A9HQ9tiwcKLF",
        "colab_type": "text"
      },
      "cell_type": "markdown",
      "source": [
        "**1:** Utilize the Apriori Algorithm to uncover frequent itemsets"
      ]
    },
    {
      "metadata": {
        "id": "2lsCzG_bcJCU",
        "colab_type": "code",
        "colab": {}
      },
      "cell_type": "code",
      "source": [
        ""
      ],
      "execution_count": 0,
      "outputs": []
    },
    {
      "metadata": {
        "id": "Q9eVWs40cs7n",
        "colab_type": "text"
      },
      "cell_type": "markdown",
      "source": [
        "**2:** Discover the strongest association rules that have high lift and high confidence"
      ]
    },
    {
      "metadata": {
        "id": "zfh4Bj_ScrwA",
        "colab_type": "code",
        "colab": {}
      },
      "cell_type": "code",
      "source": [
        ""
      ],
      "execution_count": 0,
      "outputs": []
    },
    {
      "metadata": {
        "id": "X3Y42q59edso",
        "colab_type": "text"
      },
      "cell_type": "markdown",
      "source": [
        "**3:**  Create a Summary Table or Directed Graph to surface the association rules identified in **Ask 2** above"
      ]
    },
    {
      "metadata": {
        "id": "NwC9D-_DiJU5",
        "colab_type": "code",
        "colab": {}
      },
      "cell_type": "code",
      "source": [
        ""
      ],
      "execution_count": 0,
      "outputs": []
    },
    {
      "metadata": {
        "id": "wcSaEaidta7Q",
        "colab_type": "text"
      },
      "cell_type": "markdown",
      "source": [
        "### Collaborative Filtering"
      ]
    },
    {
      "metadata": {
        "id": "mqQFGos9uKjf",
        "colab_type": "text"
      },
      "cell_type": "markdown",
      "source": [
        "Dataset:\n",
        "\n",
        "\n",
        "*Movies*: https://www.dropbox.com/s/qo7v9k5rcwt7wgh/movies.csv?raw=1\n",
        "\n",
        "*User Movie Ratings*: https://www.dropbox.com/s/piypmzeucyz160l/ratings_small.csv?raw=1"
      ]
    },
    {
      "metadata": {
        "id": "Wh8LZkxLiKVZ",
        "colab_type": "text"
      },
      "cell_type": "markdown",
      "source": [
        "**1:** Utilize Matrix Factorization to arrive at the 2 matrices i.e. a) User Ratings (across attributes) b) Movie Ratings (across attributes). Once you have the 2 matrices, compute the \"dot\" product of the 2 matrices to come up with an estimate/prediction for the missing user ratings\n",
        "\n",
        "For this ask, you could leverage the Matrix Factorization step that was discussed in the lecture **OR**\n",
        "\n",
        "Here is another implmentation for your reference that could be leveraged (may need to be adapted): \n",
        "\n",
        "https://lazyprogrammer.me/tutorial-on-collaborative-filtering-and-matrix-factorization-in-python/\n"
      ]
    },
    {
      "metadata": {
        "id": "mzDeEsYf5a92",
        "colab_type": "code",
        "colab": {}
      },
      "cell_type": "code",
      "source": [
        ""
      ],
      "execution_count": 0,
      "outputs": []
    },
    {
      "metadata": {
        "id": "dVMl5fhvvwLx",
        "colab_type": "text"
      },
      "cell_type": "markdown",
      "source": [
        "**2:** Pick 2 Userid's from the underlying data set and surface recommendations for the Userid's you chose\n",
        "\n"
      ]
    },
    {
      "metadata": {
        "id": "m3krOt_kPUQF",
        "colab_type": "code",
        "colab": {}
      },
      "cell_type": "code",
      "source": [
        ""
      ],
      "execution_count": 0,
      "outputs": []
    },
    {
      "metadata": {
        "id": "cbQ8eZbY7kX1",
        "colab_type": "text"
      },
      "cell_type": "markdown",
      "source": [
        "**3:** Pick 2 movies and find movies that are similar to the movies you have picked"
      ]
    },
    {
      "metadata": {
        "id": "i9Tej0OF7jMp",
        "colab_type": "code",
        "colab": {}
      },
      "cell_type": "code",
      "source": [
        ""
      ],
      "execution_count": 0,
      "outputs": []
    },
    {
      "metadata": {
        "id": "3DE2aZMdPWNX",
        "colab_type": "text"
      },
      "cell_type": "markdown",
      "source": [
        "**Strech goal 1**:  Measure Recommendation Accuracy - compute the RMSE RMSE to ascertain the difference between the user's actual movie ratings and the ratings that were predicted for the same movies.\n",
        "\n",
        "*Hint*: You will need to split the underlying data set. 70% of the 'User Movie Ratings' data set will constitute the *Training* dataset and 30% of the 'User Movie Ratings' dataset will constitute the* Testing *data set "
      ]
    },
    {
      "metadata": {
        "id": "VQhF6diYG1vG",
        "colab_type": "code",
        "colab": {}
      },
      "cell_type": "code",
      "source": [
        ""
      ],
      "execution_count": 0,
      "outputs": []
    },
    {
      "metadata": {
        "id": "GAmQxxIn1u5p",
        "colab_type": "text"
      },
      "cell_type": "markdown",
      "source": [
        "**Stretch goal 2**: Publish the Collaborative Filtering process that you understook as a blog post. Some suggested topics to consider:\n",
        "\n",
        "\n",
        "1) Matrix Factorization step - what is the purpose of performing Matrix Factorization?\n",
        "\n",
        "2) Recommendation Accuracy - summarize your findings? \n",
        "\n",
        "3) The actual recommendations that were surfaced\n",
        "\n",
        "*Include a link to your blog post in your submission*\n",
        "\n"
      ]
    }
  ]
}